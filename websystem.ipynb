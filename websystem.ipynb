{
 "cells": [
  {
   "cell_type": "code",
   "execution_count": 1,
   "metadata": {
    "scrolled": true
   },
   "outputs": [],
   "source": [
    "from flask import Flask, jsonify, abort, make_response, request\n",
    "from flask_sqlalchemy import SQLAlchemy\n",
    "from datetime import datetime"
   ]
  },
  {
   "cell_type": "markdown",
   "metadata": {},
   "source": [
    "# Flask Config"
   ]
  },
  {
   "cell_type": "code",
   "execution_count": 2,
   "metadata": {},
   "outputs": [],
   "source": [
    "user = 'root'\n",
    "password = 'root'\n",
    "host = 'localhost'\n",
    "port = 3306\n",
    "dbname = 'surabayapy'\n",
    "\n",
    "db_uri = 'mysql+mysqldb://%s:%s@%s:%d/%s' % (user, password, host, port, dbname)"
   ]
  },
  {
   "cell_type": "code",
   "execution_count": 3,
   "metadata": {},
   "outputs": [],
   "source": [
    "app = Flask(__name__)\n",
    "app.config['SQLALCHEMY_DATABASE_URI'] = db_uri\n",
    "app.config['SQLALCHEMY_TRACK_MODIFICATIONS'] = True\n",
    "db = SQLAlchemy(app)"
   ]
  },
  {
   "cell_type": "markdown",
   "metadata": {},
   "source": [
    "# Supporting Function"
   ]
  },
  {
   "cell_type": "code",
   "execution_count": 4,
   "metadata": {},
   "outputs": [],
   "source": [
    "import hashlib\n",
    "def hashit(text):\n",
    "    text = text.encode('UTF-8')\n",
    "    hash_object = hashlib.sha256(text)\n",
    "    hex_dig = hash_object.hexdigest()\n",
    "    return hex_dig"
   ]
  },
  {
   "cell_type": "code",
   "execution_count": 5,
   "metadata": {},
   "outputs": [],
   "source": [
    "def vdir(obj):\n",
    "    return [x for x in dir(obj) if not x.startswith('_')]"
   ]
  },
  {
   "cell_type": "code",
   "execution_count": 6,
   "metadata": {},
   "outputs": [],
   "source": [
    "def savedb(data):\n",
    "    db.session.add(data)\n",
    "    db.session.commit()"
   ]
  },
  {
   "cell_type": "code",
   "execution_count": 7,
   "metadata": {},
   "outputs": [],
   "source": [
    "def waktu(data):\n",
    "    return datetime.strptime(data, '%d %b %Y %H:%M')"
   ]
  },
  {
   "cell_type": "markdown",
   "metadata": {},
   "source": [
    "# Database"
   ]
  },
  {
   "cell_type": "code",
   "execution_count": 8,
   "metadata": {},
   "outputs": [],
   "source": [
    "daftar_hadir = db.Table('daftar_hadir',\n",
    "    db.Column('kegiatan',db.Integer, db.ForeignKey('kegiatan.id'), index=True),\n",
    "    db.Column('peserta',db.Integer, db.ForeignKey('anggota.id'), index=True),\n",
    ")"
   ]
  },
  {
   "cell_type": "code",
   "execution_count": 9,
   "metadata": {},
   "outputs": [],
   "source": [
    "class Anggota(db.Model):\n",
    "    __table_args__ = {'extend_existing': True}  \n",
    "    \n",
    "    id = db.Column(db.Integer, primary_key=True)\n",
    "    nama = db.Column(db.String(80), nullable=False)\n",
    "    email = db.Column(db.String(120), unique=True, nullable=False)\n",
    "    telegram = db.Column(db.String(64), unique=True, nullable=False)\n",
    "    github = db.Column(db.String(15), unique=True, nullable=True)\n",
    "    key = db.Column(db.String(4), unique=True, nullable=True)\n",
    "    cari_kerja = db.Column(db.Boolean, nullable=False)\n",
    "    tanggal_terdaftar = db.Column(db.DateTime, default=datetime.utcnow)\n",
    "    ikut_serta = db.relationship('Kegiatan', secondary='daftar_hadir', backref=db.backref('peserta', lazy='dynamic'))\n",
    "\n",
    "    def __repr__(self):\n",
    "        return '<Anggota %r>' % self.telegram"
   ]
  },
  {
   "cell_type": "code",
   "execution_count": 10,
   "metadata": {},
   "outputs": [],
   "source": [
    "class Kegiatan(db.Model):\n",
    "    __table_args__ = {'extend_existing': True} \n",
    "    \n",
    "    id = db.Column(db.Integer, primary_key=True)\n",
    "    tema =  db.Column(db.Text, nullable=False)\n",
    "    pembicara = db.Column(db.Text,  nullable=False)\n",
    "    tempat = db.Column(db.Text,  nullable=False)\n",
    "    maps = db.Column(db.String(80), nullable=True)\n",
    "    waktu = db.Column(db.DateTime, nullable=False)\n",
    "    pendaftaran = db.Column(db.DateTime, nullable=False)\n",
    "\n",
    "    def __repr__(self):\n",
    "        return '<Kegiatan %r>' % self.tema"
   ]
  },
  {
   "cell_type": "code",
   "execution_count": 11,
   "metadata": {},
   "outputs": [],
   "source": [
    "class Lowongan(db.Model):\n",
    "    id = db.Column(db.Integer, primary_key=True)\n",
    "    pengirim = db.Column(db.String(80), nullable=False)\n",
    "    judul = db.Column(db.String(80),  nullable=False)\n",
    "    pesan = db.Column(db.Text, nullable=False)\n",
    "    \n",
    "    def __repr__(self):\n",
    "        return '<Lowongan %r>' % self.judul"
   ]
  },
  {
   "cell_type": "code",
   "execution_count": 12,
   "metadata": {},
   "outputs": [],
   "source": [
    "db.create_all()"
   ]
  },
  {
   "cell_type": "markdown",
   "metadata": {},
   "source": [
    "# Fungsi Operasi"
   ]
  },
  {
   "cell_type": "code",
   "execution_count": 13,
   "metadata": {},
   "outputs": [],
   "source": [
    "def registrasi_anggota(nama, email, telegram, github='', cari_kerja=False):\n",
    "    try:\n",
    "        anggota_baru = Anggota(nama=nama, email=email, telegram=telegram, github=github, cari_kerja=cari_kerja)\n",
    "        savedb(anggota_baru)\n",
    "        \n",
    "        data= {\n",
    "            'id' : anggota_baru.id,\n",
    "            'nama' : anggota_baru.nama,\n",
    "            'email' : anggota_baru.email,\n",
    "            'telegram' : anggota_baru.telegram,\n",
    "            'github' : anggota_baru.github,\n",
    "            'cari_kerja' : anggota_baru.cari_kerja\n",
    "        }\n",
    "        return {'status': 'success', 'data': data}, 201\n",
    "    \n",
    "    except:\n",
    "        db.session.rollback()\n",
    "        return {'status': 'failed', 'data': 'Username, email, telegram atau github sudah digunakan'}, 400"
   ]
  },
  {
   "cell_type": "code",
   "execution_count": 14,
   "metadata": {},
   "outputs": [],
   "source": [
    "def buat_kegiatan(tema, pembicara, tempat, maps, waktuacara, pendaftaran):\n",
    "    try:\n",
    "        kegiatan_baru = Kegiatan(tema = tema, pembicara = pembicara, tempat = tempat, maps = maps, waktu = waktu(waktuacara), pendaftaran = waktu(pendaftaran))\n",
    "        savedb(kegiatan_baru)\n",
    "        data= {\n",
    "            'id' : kegiatan_baru.id,\n",
    "            'tema' : kegiatan_baru.tema,\n",
    "            'pembicara' : kegiatan_baru.pembicara,\n",
    "            'tempat' : kegiatan_baru.tempat,\n",
    "            'maps' : kegiatan_baru.maps,\n",
    "            'waktu' : kegiatan_baru.waktu,\n",
    "            'pendaftaran' : kegiatan_baru.pendaftaran\n",
    "        }\n",
    "        \n",
    "        return {'status': 'success', 'data': data}, 201\n",
    "    except:\n",
    "        db.session.rollback()\n",
    "        return {'status': 'failed', 'data': 'Kegiatan tidak dapat didaftarkan'}, 400"
   ]
  },
  {
   "cell_type": "code",
   "execution_count": 15,
   "metadata": {},
   "outputs": [],
   "source": [
    "def kegiatan_peserta(anggota_telegram):\n",
    "    try:\n",
    "        anggota = Anggota.query.filter_by(telegram=anggota_telegram).first()\n",
    "        info_anggota =[]\n",
    "        for kegiatan in anggota.ikut_serta:\n",
    "            data = {\n",
    "                'id': kegiatan.id,\n",
    "                'tema': kegiatan.tema,\n",
    "                'pembicara': kegiatan.pembicara,\n",
    "                'tempat': kegiatan.tempat,\n",
    "                'maps': kegiatan.maps,\n",
    "                'waktu': kegiatan.waktu\n",
    "            }\n",
    "            info_anggota.append(data)\n",
    "        return {'status': 'success', 'data': info_anggota}, 200\n",
    "    except:\n",
    "        return {'status': 'failed', 'data': 'Not found'}, 404"
   ]
  },
  {
   "cell_type": "code",
   "execution_count": 16,
   "metadata": {},
   "outputs": [],
   "source": [
    "def mendaftar_kegiatan(anggota_telegram, idkegiatan):\n",
    "    try:\n",
    "        anggota = Anggota.query.filter_by(telegram=anggota_telegram).first()\n",
    "        kegiatan = Kegiatan.query.filter_by(id=idkegiatan).first()\n",
    "        kegiatan.peserta.append(anggota)\n",
    "        db.session.commit()\n",
    "        response = kegiatan_peserta(anggota_telegram)\n",
    "        return response[0], 201\n",
    "    except:\n",
    "        return {'status': 'failed', 'data': 'Not found'}, 404"
   ]
  },
  {
   "cell_type": "code",
   "execution_count": 17,
   "metadata": {},
   "outputs": [],
   "source": [
    "def list_kegiatan(mode, idkegiatan=0):\n",
    "    try:\n",
    "        if mode == 'tema':\n",
    "            daftar_kegiatan = []\n",
    "            for kegiatan in Kegiatan.query:\n",
    "                data = {\n",
    "                    'tema' : kegiatan.tema,\n",
    "                    'id' : kegiatan.id\n",
    "                }\n",
    "                daftar_kegiatan.append(data)\n",
    "            return {'status': 'success', 'data': daftar_kegiatan}, 200\n",
    "        \n",
    "        elif mode == 'peserta':\n",
    "            kegiatan = Kegiatan.query.filter_by(id=idkegiatan).first()\n",
    "            daftar_peserta = []\n",
    "            for peserta in kegiatan.peserta:\n",
    "                daftar_peserta.append(peserta.telegram)\n",
    "            return {'status': 'success', 'data': daftar_peserta}, 200\n",
    "        \n",
    "    except:\n",
    "        return {'status': 'failed', 'data': 'Not found'}, 404"
   ]
  },
  {
   "cell_type": "markdown",
   "metadata": {},
   "source": [
    "# API"
   ]
  },
  {
   "cell_type": "markdown",
   "metadata": {},
   "source": [
    "HTTP Method | Action | Examples | Fungsi yang digunakan\n",
    "--- | --- | --- | ---\n",
    "Post | Registrasi Anggota | /api/daftar-anggota/ | registrasi_anggota(nama, email, telegram, github, cari_kerja)\n",
    "**Post** | **Membuat Kegiatan**| **/api/buat-kegiatan/** | **buat_kegiatan(tema, pembicara, tempat, maps, waktu, pendaftaran)**\n",
    "Post | Mendaftar Kegiatan| /api/mendaftar-kegiatan/ | mendaftar_kegiatan(anggota_telegram, tema)\n",
    "Get | List semua kegiatan selanjutnya| /api/daftar-kegiatan/ | list_kegiatan('tema')\n",
    "Get | List semua peserta kegiatan| /api/peserta-kegiatan/id-kegiatan/ | list_kegiatan('peserta', id-kegiatan)\n",
    "Get | List semua kegiatan peserta| /api/kegiatan/id-telegram/ | kegiatan_peserta(id-telegram)\n",
    "\n",
    "**Bold** bisa diakses oleh admin saja"
   ]
  },
  {
   "cell_type": "code",
   "execution_count": 18,
   "metadata": {},
   "outputs": [],
   "source": [
    "@app.route('/api/daftar-anggota/', methods=['POST'])\n",
    "def api_daftar_anggota():\n",
    "    if request.method == 'POST':\n",
    "        parameter = ['nama', 'email', 'telegram', 'github']\n",
    "        if not request.json or not set(parameter).issubset(request.json):\n",
    "            response = {'status': 'failed', 'data': 'Bad Request'}, 400\n",
    "        else:\n",
    "            content = request.json\n",
    "            response = registrasi_anggota(content[\"nama\"], content[\"email\"], content[\"telegram\"], content[\"github\"])\n",
    "    return jsonify(response[0]), response[1]\n",
    "    \n",
    "\n",
    "@app.route('/api/buat-kegiatan/', methods=['POST'])\n",
    "def api_buat_kegiatan():\n",
    "    if request.method == 'POST':\n",
    "        parameter = ['tema', 'pembicara', 'tempat', 'maps', 'waktu', 'pendaftaran']\n",
    "        if not request.json or not set(parameter).issubset(request.json):\n",
    "            response = {'status': 'failed', 'data': 'Bad Request'}, 400\n",
    "        else:\n",
    "            content = request.json\n",
    "            response = buat_kegiatan(content[\"tema\"], content[\"pembicara\"], content[\"tempat\"], content[\"maps\"], content[\"waktu\"], content[\"pendaftaran\"])\n",
    "    return jsonify(response[0]), response[1]\n",
    "    \n",
    "\n",
    "@app.route('/api/mendaftar-kegiatan/', methods=['POST'])\n",
    "def api_mendaftar_kegiatan():\n",
    "    if request.method == 'POST':\n",
    "        parameter = ['anggota_telegram', 'idkegiatan']\n",
    "        if not request.json or not set(parameter).issubset(request.json):\n",
    "            response = {'status': 'failed', 'data': 'Bad Request'}, 400\n",
    "        else:\n",
    "            content = request.json\n",
    "            response = mendaftar_kegiatan(content[\"anggota_telegram\"], content[\"idkegiatan\"])\n",
    "    return jsonify(response[0]), response[1]\n",
    "     \n",
    "\n",
    "@app.route('/api/daftar-kegiatan/', methods=['GET'])\n",
    "def api_kegiatan():\n",
    "    if request.method == 'GET':\n",
    "        response = list_kegiatan('tema')\n",
    "    return jsonify(response[0]), response[1]\n",
    "     \n",
    "\n",
    "@app.route('/api/peserta-kegiatan/<int:idkegiatan>/', methods=['GET'])\n",
    "def api_peserta_kegiatan(idkegiatan):\n",
    "    if request.method == 'GET':\n",
    "        response = list_kegiatan('peserta', idkegiatan)\n",
    "    return jsonify(response[0]), response[1]\n",
    "     \n",
    "\n",
    "@app.route('/api/kegiatan/<idtelegram>/', methods=['GET'])\n",
    "def api_kegiatan_idtelegram(idtelegram):\n",
    "    if request.method == 'GET':\n",
    "        response = kegiatan_peserta(idtelegram)\n",
    "    return jsonify(response[0]), response[1]\n",
    "     "
   ]
  },
  {
   "cell_type": "code",
   "execution_count": 19,
   "metadata": {},
   "outputs": [],
   "source": [
    "@app.errorhandler(404)\n",
    "def not_found(error):\n",
    "    return make_response(jsonify({'error': 'Not  Found'}), 404)\n",
    "\n",
    "@app.errorhandler(400)\n",
    "def not_found(error):\n",
    "    return make_response(jsonify({'error': 'Bad Requesst'}), 404)"
   ]
  },
  {
   "cell_type": "code",
   "execution_count": 20,
   "metadata": {},
   "outputs": [
    {
     "name": "stderr",
     "output_type": "stream",
     "text": [
      " * Running on http://0.0.0.0:5000/ (Press CTRL+C to quit)\n",
      "127.0.0.1 - - [17/Apr/2018 00:21:47] \"GET /api/kegiatan/tegarimansyah/ HTTP/1.1\" 200 -\n"
     ]
    }
   ],
   "source": [
    "if __name__ == '__main__':\n",
    "    app.run(host= '0.0.0.0',debug=False)"
   ]
  },
  {
   "cell_type": "code",
   "execution_count": null,
   "metadata": {},
   "outputs": [],
   "source": []
  },
  {
   "cell_type": "markdown",
   "metadata": {},
   "source": [
    "# Test Fungsi"
   ]
  },
  {
   "cell_type": "code",
   "execution_count": 19,
   "metadata": {},
   "outputs": [
    {
     "data": {
      "text/plain": [
       "({'data': {'cari_kerja': True,\n",
       "   'email': 'egar@imansyah.email',\n",
       "   'github': 'tegarimansyah',\n",
       "   'id': 1,\n",
       "   'nama': 'tegar',\n",
       "   'telegram': 'tegarimansyah'},\n",
       "  'status': 'success'},\n",
       " 201)"
      ]
     },
     "execution_count": 19,
     "metadata": {},
     "output_type": "execute_result"
    }
   ],
   "source": [
    "registrasi_anggota('tegar','egar@imansyah.email', 'tegarimansyah', 'tegarimansyah', True)"
   ]
  },
  {
   "cell_type": "code",
   "execution_count": 30,
   "metadata": {},
   "outputs": [
    {
     "data": {
      "text/plain": [
       "({'data': {'id': 1,\n",
       "   'maps': None,\n",
       "   'pembicara': 'Tegar Imansyah',\n",
       "   'pendaftaran': datetime.datetime(2018, 4, 18, 17, 0),\n",
       "   'tema': 'Combining Web, Bot and AI in One App with Python',\n",
       "   'tempat': 'Unair C',\n",
       "   'waktu': datetime.datetime(2018, 4, 18, 18, 0)},\n",
       "  'status': 'success'},\n",
       " 201)"
      ]
     },
     "execution_count": 30,
     "metadata": {},
     "output_type": "execute_result"
    }
   ],
   "source": [
    "buat_kegiatan('Combining Web, Bot and AI in One App with Python', 'Tegar Imansyah', 'Unair C', None, waktu('18 Apr 2018 18:00'), waktu('18 Apr 2018 17:00'))"
   ]
  },
  {
   "cell_type": "code",
   "execution_count": 64,
   "metadata": {},
   "outputs": [
    {
     "data": {
      "text/plain": [
       "({'data': ['Combining Web, Bot and AI in One App with Python'],\n",
       "  'status': 'success'},\n",
       " 201)"
      ]
     },
     "execution_count": 64,
     "metadata": {},
     "output_type": "execute_result"
    }
   ],
   "source": [
    "tema = 'Combining Web, Bot and AI in One App with Python'"
   ]
  },
  {
   "cell_type": "code",
   "execution_count": 65,
   "metadata": {},
   "outputs": [],
   "source": [
    "tegar = Anggota.query.filter_by(telegram='tegarimansyah').first()"
   ]
  },
  {
   "cell_type": "code",
   "execution_count": 67,
   "metadata": {},
   "outputs": [],
   "source": [
    "kegiatan = Kegiatan.query.filter_by(tema=tema).first()"
   ]
  },
  {
   "cell_type": "code",
   "execution_count": 71,
   "metadata": {},
   "outputs": [
    {
     "data": {
      "text/plain": [
       "[<Kegiatan 'Combining Web, Bot and AI in One App with Python'>]"
      ]
     },
     "execution_count": 71,
     "metadata": {},
     "output_type": "execute_result"
    }
   ],
   "source": [
    "tegar.ikut_serta"
   ]
  },
  {
   "cell_type": "code",
   "execution_count": 69,
   "metadata": {},
   "outputs": [],
   "source": [
    "kegiatan.peserta.append(tegar)"
   ]
  },
  {
   "cell_type": "code",
   "execution_count": 70,
   "metadata": {},
   "outputs": [],
   "source": [
    "db.session.commit()"
   ]
  },
  {
   "cell_type": "code",
   "execution_count": 72,
   "metadata": {},
   "outputs": [],
   "source": [
    "list_kegiatan('peserta','Combining Web, Bot and AI in One App with Python')"
   ]
  },
  {
   "cell_type": "code",
   "execution_count": 76,
   "metadata": {},
   "outputs": [
    {
     "name": "stdout",
     "output_type": "stream",
     "text": [
      "tegarimansyah\n"
     ]
    }
   ],
   "source": [
    "kegiatan = Kegiatan.query.filter_by(tema=tema).first()\n",
    "for peserta in kegiatan.peserta:\n",
    "    print(peserta.telegram)"
   ]
  },
  {
   "cell_type": "raw",
   "metadata": {},
   "source": [
    "registrasi_akun('tegariman','tegar@imansyah.name','masukaja')"
   ]
  },
  {
   "cell_type": "raw",
   "metadata": {},
   "source": [
    "registrasi_lampu('Kamar mandi', 'tegar')"
   ]
  },
  {
   "cell_type": "raw",
   "metadata": {},
   "source": [
    "list_lampu('tegar')"
   ]
  },
  {
   "cell_type": "raw",
   "metadata": {},
   "source": [
    "list_lampu('tegar',1)"
   ]
  },
  {
   "cell_type": "raw",
   "metadata": {},
   "source": [
    "update_lampu('tegar', False)"
   ]
  },
  {
   "cell_type": "raw",
   "metadata": {},
   "source": [
    "update_lampu('tegar', True, 1)"
   ]
  },
  {
   "cell_type": "code",
   "execution_count": 10,
   "metadata": {},
   "outputs": [],
   "source": [
    "nama = 'tegar'\n",
    "email = 'egar@imansyah.com'\n",
    "telegram = 'tegarimansyah'\n",
    "\n",
    "tegar = Anggota(nama=nama, email=email, telegram=telegram)"
   ]
  },
  {
   "cell_type": "code",
   "execution_count": 11,
   "metadata": {},
   "outputs": [],
   "source": [
    "savedb(tegar)"
   ]
  },
  {
   "cell_type": "code",
   "execution_count": 12,
   "metadata": {},
   "outputs": [],
   "source": [
    "nama = 'udin'\n",
    "email = 'udin@imansyah.com'\n",
    "telegram = 'udinsedunia'\n",
    "\n",
    "udin = Anggota(nama=nama, email=email, telegram=telegram)\n",
    "savedb(udin)"
   ]
  },
  {
   "cell_type": "code",
   "execution_count": 35,
   "metadata": {},
   "outputs": [
    {
     "data": {
      "text/plain": [
       "[<Kegiatan 'Combining Web, Bot and AI in One App with Python'>]"
      ]
     },
     "execution_count": 35,
     "metadata": {},
     "output_type": "execute_result"
    }
   ],
   "source": [
    "post = db.session.query(Anggota).get(1)\n",
    "post.ikut_serta"
   ]
  },
  {
   "cell_type": "code",
   "execution_count": 14,
   "metadata": {},
   "outputs": [
    {
     "data": {
      "text/plain": [
       "['email',\n",
       " 'github',\n",
       " 'id',\n",
       " 'ikut_serta',\n",
       " 'key',\n",
       " 'metadata',\n",
       " 'nama',\n",
       " 'query',\n",
       " 'query_class',\n",
       " 'tanggal_terdaftar',\n",
       " 'telegram']"
      ]
     },
     "execution_count": 14,
     "metadata": {},
     "output_type": "execute_result"
    }
   ],
   "source": [
    "vdir(tegar)"
   ]
  },
  {
   "cell_type": "code",
   "execution_count": 15,
   "metadata": {},
   "outputs": [
    {
     "data": {
      "text/plain": [
       "1"
      ]
     },
     "execution_count": 15,
     "metadata": {},
     "output_type": "execute_result"
    }
   ],
   "source": [
    "tegar.id"
   ]
  },
  {
   "cell_type": "code",
   "execution_count": 14,
   "metadata": {},
   "outputs": [],
   "source": [
    "tema = 'Combining Web, Bot and AI in One App with Python'\n",
    "pembicara = 'Tegar Imansyah'\n",
    "tempat = '''Gedung Rektorat Lt 2\n",
    "Ruangan Direktorat Sistem Informasi\n",
    "Universitas Airlangga Surabaya (Kampus C)'''\n",
    "waktu = tanggal('Apr 18 2018 6:00PM')\n",
    "pendaftaran = tanggal('Apr 18 2016 5:59PM')"
   ]
  },
  {
   "cell_type": "code",
   "execution_count": 15,
   "metadata": {},
   "outputs": [],
   "source": [
    "acara_unair = Kegiatan(tema = tema, pembicara = pembicara, tempat = tempat, waktu = waktu, pendaftaran = pendaftaran)"
   ]
  },
  {
   "cell_type": "code",
   "execution_count": 16,
   "metadata": {},
   "outputs": [],
   "source": [
    "savedb(acara_unair)"
   ]
  },
  {
   "cell_type": "code",
   "execution_count": 20,
   "metadata": {},
   "outputs": [
    {
     "data": {
      "text/plain": [
       "['id',\n",
       " 'maps',\n",
       " 'metadata',\n",
       " 'pembicara',\n",
       " 'pendaftaran',\n",
       " 'peserta',\n",
       " 'query',\n",
       " 'query_class',\n",
       " 'tema',\n",
       " 'tempat',\n",
       " 'waktu']"
      ]
     },
     "execution_count": 20,
     "metadata": {},
     "output_type": "execute_result"
    }
   ],
   "source": [
    "vdir(acara_unair)"
   ]
  },
  {
   "cell_type": "code",
   "execution_count": 18,
   "metadata": {},
   "outputs": [],
   "source": [
    "acara_unair.peserta.append(tegar)"
   ]
  },
  {
   "cell_type": "code",
   "execution_count": 19,
   "metadata": {},
   "outputs": [],
   "source": [
    "db.session.commit()"
   ]
  },
  {
   "cell_type": "code",
   "execution_count": 20,
   "metadata": {
    "scrolled": true
   },
   "outputs": [
    {
     "name": "stdout",
     "output_type": "stream",
     "text": [
      "tegarimansyah\n",
      "udinsedunia\n"
     ]
    }
   ],
   "source": [
    "for peserta in acara_unair.peserta:\n",
    "    print(peserta.telegram)"
   ]
  },
  {
   "cell_type": "code",
   "execution_count": 21,
   "metadata": {
    "scrolled": false
   },
   "outputs": [
    {
     "name": "stdout",
     "output_type": "stream",
     "text": [
      "<Kegiatan 'Combining Web, Bot and AI in One App with Python'>\n"
     ]
    }
   ],
   "source": [
    "for kegiatan in tegar.ikut_serta:\n",
    "    print(kegiatan)"
   ]
  },
  {
   "cell_type": "code",
   "execution_count": 30,
   "metadata": {
    "scrolled": true
   },
   "outputs": [
    {
     "ename": "NameError",
     "evalue": "name 'self' is not defined",
     "output_type": "error",
     "traceback": [
      "\u001b[0;31m---------------------------------------------------------------------------\u001b[0m",
      "\u001b[0;31mNameError\u001b[0m                                 Traceback (most recent call last)",
      "\u001b[0;32m<ipython-input-30-bc1f44f753df>\u001b[0m in \u001b[0;36m<module>\u001b[0;34m()\u001b[0m\n\u001b[0;32m----> 1\u001b[0;31m \u001b[0mAnggota\u001b[0m\u001b[0;34m.\u001b[0m\u001b[0mquery\u001b[0m\u001b[0;34m.\u001b[0m\u001b[0mwith_parent\u001b[0m\u001b[0;34m(\u001b[0m\u001b[0mself\u001b[0m\u001b[0;34m)\u001b[0m\u001b[0;34m\u001b[0m\u001b[0m\n\u001b[0m",
      "\u001b[0;31mNameError\u001b[0m: name 'self' is not defined"
     ]
    }
   ],
   "source": [
    "Anggota.query.with_parent(self)"
   ]
  },
  {
   "cell_type": "code",
   "execution_count": 37,
   "metadata": {},
   "outputs": [
    {
     "data": {
      "text/plain": [
       "Table('daftar_hadir', MetaData(bind=None), Column('kegiatan', Integer(), ForeignKey('kegiatan.id'), table=<daftar_hadir>), Column('peserta', Integer(), ForeignKey('anggota.id'), table=<daftar_hadir>), Column('signup', DateTime(), table=<daftar_hadir>), Column('signin', DateTime(), table=<daftar_hadir>), schema=None)"
      ]
     },
     "execution_count": 37,
     "metadata": {},
     "output_type": "execute_result"
    }
   ],
   "source": [
    "daftar_hadir"
   ]
  },
  {
   "cell_type": "code",
   "execution_count": 15,
   "metadata": {
    "scrolled": true
   },
   "outputs": [
    {
     "name": "stderr",
     "output_type": "stream",
     "text": [
      "/home/tegar/.local/lib/python3.6/site-packages/sqlalchemy/orm/session.py:521: SAWarning: Session's state has been changed on a non-active transaction - this state will be discarded.\n",
      "  \"Session's state has been changed on \"\n"
     ]
    }
   ],
   "source": [
    "db.session.rollback()"
   ]
  }
 ],
 "metadata": {
  "kernelspec": {
   "display_name": "Python 3",
   "language": "python",
   "name": "python3"
  },
  "language_info": {
   "codemirror_mode": {
    "name": "ipython",
    "version": 3
   },
   "file_extension": ".py",
   "mimetype": "text/x-python",
   "name": "python",
   "nbconvert_exporter": "python",
   "pygments_lexer": "ipython3",
   "version": "3.6.3"
  }
 },
 "nbformat": 4,
 "nbformat_minor": 2
}
